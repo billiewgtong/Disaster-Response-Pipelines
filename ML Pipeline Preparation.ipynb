{
 "cells": [
  {
   "cell_type": "markdown",
   "metadata": {},
   "source": [
    "# ML Pipeline Preparation\n",
    "Follow the instructions below to help you create your ML pipeline.\n",
    "### 1. Import libraries and load data from database.\n",
    "- Import Python libraries\n",
    "- Load dataset from database with [`read_sql_table`](https://pandas.pydata.org/pandas-docs/stable/generated/pandas.read_sql_table.html)\n",
    "- Define feature and target variables X and Y"
   ]
  },
  {
   "cell_type": "code",
   "execution_count": null,
   "metadata": {},
   "outputs": [],
   "source": [
    "# import libraries\n",
    "import numpy as pd\n",
    "import pandas as pd\n",
    "import pickle\n",
    "import matplotlib.pyplot as py\n",
    "from sklearn.model_selection import GridSearchCV, train_test_split\n",
    "from sklearn.feature_extraction.text import TfidfVectorizer, HashingVectorizer\n",
    "from sklearn.multioutput import MultiOutputClassifier\n",
    "from sklearn.ensemble import AdaBoostClassifier, RandomForestClassifier\n",
    "from sklearn.metrics import classification_report\n",
    "from sklearn.base import BaseEstimator, TransformerMixin\n",
    "import re\n",
    "from sqlalchemy import create_engine\n",
    "from sklearn.pipeline import Pipeline, FeatureUnion\n",
    "from nltk.tokenize import word_tokenize\n",
    "from nltk.stem import WordNetLemmatizer, PorterStemmer\n",
    "%matplotlib inline\n",
    "\n",
    "%config IPCompletor.greedy = True"
   ]
  },
  {
   "cell_type": "code",
   "execution_count": null,
   "metadata": {},
   "outputs": [],
   "source": [
    "import nltk\n",
    "nltk.download('punkt')\n",
    "nltk.download('wordnet')\n",
    "nltk.download('averaged_perceptron_tagger')"
   ]
  },
  {
   "cell_type": "code",
   "execution_count": null,
   "metadata": {},
   "outputs": [],
   "source": [
    "# load data from database\n",
    "engine = create_engine('sqlite:///InsertDatabaseName.db')\n",
    "df = pd.read_sql_table('disaster_details', engine)\n",
    "X = df['message']\n",
    "Y = df.drop(columns = ['id', 'message' , 'original' ,'genre'])\n",
    "Y.head()"
   ]
  },
  {
   "cell_type": "markdown",
   "metadata": {},
   "source": [
    "### 2. Write a tokenization function to process your text data"
   ]
  },
  {
   "cell_type": "code",
   "execution_count": null,
   "metadata": {},
   "outputs": [],
   "source": [
    "def tokenize(text):\n",
    "    \n",
    "    reg_exp_non_anum = r\"[^a-zA-Z0-9]\"\n",
    "    \n",
    "    #Convert all text to lower case\n",
    "    text = text.lower()\n",
    "    \n",
    "    #Remove all non-alphanumeric characterics with a space to prevent meshed words\n",
    "    text = re.sub(reg_exp_non_anum, \" \", text)\n",
    "    \n",
    "    #Tokenize text\n",
    "    tokens = word_tokenize(text)\n",
    "    \n",
    "    #Instantiate Stemmer and Lemmitizer \n",
    "    stemmer = PorterStemmer()\n",
    "    lemmitizer = WordNetLemmatizer()\n",
    "    \n",
    "    #Convert raw tokens into lemmitized and stemmed forms w/ no white spaces\n",
    "    new_tokens = []\n",
    "    \n",
    "    for token in tokens:\n",
    "        lem_token_noun = lemmitizer.lemmatize(token)\n",
    "        lem_token_verb = lemmitizer.lemmatize(lem_token_noun, pos = 'v')\n",
    "        stem_lem_token = stemmer.stem(lem_token_verb)\n",
    "        new_token = stem_lem_token.strip()\n",
    "        new_tokens.append(new_token)\n",
    "        \n",
    "    return new_tokens"
   ]
  },
  {
   "cell_type": "code",
   "execution_count": null,
   "metadata": {},
   "outputs": [],
   "source": [
    "#Test if tokenize function works\n",
    "text = X.iloc[1]\n",
    "tokenize(text)"
   ]
  },
  {
   "cell_type": "markdown",
   "metadata": {},
   "source": [
    "### 3. Build a machine learning pipeline\n",
    "This machine pipeline should take in the `message` column as input and output classification results on the other 36 categories in the dataset. You may find the [MultiOutputClassifier](http://scikit-learn.org/stable/modules/generated/sklearn.multioutput.MultiOutputClassifier.html) helpful for predicting multiple target variables."
   ]
  },
  {
   "cell_type": "code",
   "execution_count": null,
   "metadata": {},
   "outputs": [],
   "source": [
    "pipeline = Pipeline([\n",
    "    ('tfidf', TfidfVectorizer(tokenizer= tokenize)),\n",
    "    ('clf', MultiOutputClassifier(RandomForestClassifier(random_state = 30)))\n",
    "])"
   ]
  },
  {
   "cell_type": "markdown",
   "metadata": {},
   "source": [
    "### 4. Train pipeline\n",
    "- Split data into train and test sets\n",
    "- Train pipeline"
   ]
  },
  {
   "cell_type": "code",
   "execution_count": null,
   "metadata": {},
   "outputs": [],
   "source": [
    "X_train, X_test, Y_train, Y_test = train_test_split(X, Y, test_size = 0.3, random_state = 30)\n",
    "\n",
    "#train clf\n",
    "pipeline.fit(X_train, Y_train)\n",
    "\n",
    "#predict response\n",
    "Y_pred = pipeline.predict(X_test)"
   ]
  },
  {
   "cell_type": "markdown",
   "metadata": {},
   "source": [
    "### 5. Test your model\n",
    "Report the f1 score, precision and recall for each output category of the dataset. You can do this by iterating through the columns and calling sklearn's `classification_report` on each."
   ]
  },
  {
   "cell_type": "code",
   "execution_count": null,
   "metadata": {
    "scrolled": true
   },
   "outputs": [],
   "source": [
    "#Obtain names of the categories\n",
    "category_names = Y.columns.tolist()\n",
    "\n",
    "Y_pred_df = pd.DataFrame(Y_pred, columns = category_names)\n",
    "Y_pred_df.head()"
   ]
  },
  {
   "cell_type": "code",
   "execution_count": null,
   "metadata": {
    "scrolled": false
   },
   "outputs": [],
   "source": [
    "#Loop through columns and outputing results\n",
    "\n",
    "for i in range(len(Y.columns)):\n",
    "    print('Category: {}'.format(category_names[i].upper()), \"\\n\\n\",\n",
    "         classification_report(Y_test.iloc[:,i], Y_pred_df.iloc[:,i]))"
   ]
  },
  {
   "cell_type": "markdown",
   "metadata": {},
   "source": [
    "### 6. Improve your model\n",
    "Use grid search to find better parameters. "
   ]
  },
  {
   "cell_type": "code",
   "execution_count": null,
   "metadata": {},
   "outputs": [],
   "source": [
    "pipeline.get_params()"
   ]
  },
  {
   "cell_type": "code",
   "execution_count": null,
   "metadata": {},
   "outputs": [],
   "source": [
    "parameters = {\n",
    " 'clf__estimator__n_estimators': (5 ,10)\n",
    "}\n",
    "\n",
    "cv = GridSearchCV(pipeline, param_grid=parameters, verbose=1)"
   ]
  },
  {
   "cell_type": "code",
   "execution_count": null,
   "metadata": {
    "scrolled": true
   },
   "outputs": [],
   "source": [
    "cv.fit(X_train, Y_train)"
   ]
  },
  {
   "cell_type": "code",
   "execution_count": null,
   "metadata": {},
   "outputs": [],
   "source": [
    "Y_pred2 = cv.predict(X_test)"
   ]
  },
  {
   "cell_type": "code",
   "execution_count": null,
   "metadata": {},
   "outputs": [],
   "source": [
    "Y_pred2_df = pd.DataFrame(Y_pred2, columns = category_names)"
   ]
  },
  {
   "cell_type": "markdown",
   "metadata": {},
   "source": [
    "### 7. Test your model\n",
    "Show the accuracy, precision, and recall of the tuned model.  \n",
    "\n",
    "Since this project focuses on code quality, process, and  pipelines, there is no minimum performance metric needed to pass. However, make sure to fine tune your models for accuracy, precision and recall to make your project stand out - especially for your portfolio!"
   ]
  },
  {
   "cell_type": "code",
   "execution_count": null,
   "metadata": {},
   "outputs": [],
   "source": [
    "for i in range(len(Y.columns)):\n",
    "    print('Category:{}'.format(category_names[i].upper()), \"\\n\\n\",\n",
    "         classification_report(Y_test.iloc[:,i], Y_pred2_df.iloc[:,i]))"
   ]
  },
  {
   "cell_type": "markdown",
   "metadata": {},
   "source": [
    "### 8. Try improving your model further. Here are a few ideas:\n",
    "* try other machine learning algorithms\n",
    "* add other features besides the TF-IDF"
   ]
  },
  {
   "cell_type": "code",
   "execution_count": 18,
   "metadata": {},
   "outputs": [],
   "source": [
    "pipeline3 = Pipeline([\n",
    "    ('hashing', HashingVectorizer(tokenizer= tokenize)),\n",
    "    ('clf', MultiOutputClassifier(AdaBoostClassifier(random_state = 30)))\n",
    "])\n"
   ]
  },
  {
   "cell_type": "code",
   "execution_count": 20,
   "metadata": {},
   "outputs": [
    {
     "data": {
      "text/plain": [
       "{'memory': None,\n",
       " 'steps': [('hashing',\n",
       "   HashingVectorizer(alternate_sign=True, analyzer='word', binary=False,\n",
       "            decode_error='strict', dtype=<class 'numpy.float64'>,\n",
       "            encoding='utf-8', input='content', lowercase=True,\n",
       "            n_features=1048576, ngram_range=(1, 1), non_negative=False,\n",
       "            norm='l2', preprocessor=None, stop_words=None, strip_accents=None,\n",
       "            token_pattern='(?u)\\\\b\\\\w\\\\w+\\\\b',\n",
       "            tokenizer=<function tokenize at 0x7efe154cf620>)),\n",
       "  ('clf',\n",
       "   MultiOutputClassifier(estimator=AdaBoostClassifier(algorithm='SAMME.R', base_estimator=None,\n",
       "             learning_rate=1.0, n_estimators=50, random_state=30),\n",
       "              n_jobs=1))],\n",
       " 'hashing': HashingVectorizer(alternate_sign=True, analyzer='word', binary=False,\n",
       "          decode_error='strict', dtype=<class 'numpy.float64'>,\n",
       "          encoding='utf-8', input='content', lowercase=True,\n",
       "          n_features=1048576, ngram_range=(1, 1), non_negative=False,\n",
       "          norm='l2', preprocessor=None, stop_words=None, strip_accents=None,\n",
       "          token_pattern='(?u)\\\\b\\\\w\\\\w+\\\\b',\n",
       "          tokenizer=<function tokenize at 0x7efe154cf620>),\n",
       " 'clf': MultiOutputClassifier(estimator=AdaBoostClassifier(algorithm='SAMME.R', base_estimator=None,\n",
       "           learning_rate=1.0, n_estimators=50, random_state=30),\n",
       "            n_jobs=1),\n",
       " 'hashing__alternate_sign': True,\n",
       " 'hashing__analyzer': 'word',\n",
       " 'hashing__binary': False,\n",
       " 'hashing__decode_error': 'strict',\n",
       " 'hashing__dtype': numpy.float64,\n",
       " 'hashing__encoding': 'utf-8',\n",
       " 'hashing__input': 'content',\n",
       " 'hashing__lowercase': True,\n",
       " 'hashing__n_features': 1048576,\n",
       " 'hashing__ngram_range': (1, 1),\n",
       " 'hashing__non_negative': False,\n",
       " 'hashing__norm': 'l2',\n",
       " 'hashing__preprocessor': None,\n",
       " 'hashing__stop_words': None,\n",
       " 'hashing__strip_accents': None,\n",
       " 'hashing__token_pattern': '(?u)\\\\b\\\\w\\\\w+\\\\b',\n",
       " 'hashing__tokenizer': <function __main__.tokenize(text)>,\n",
       " 'clf__estimator__algorithm': 'SAMME.R',\n",
       " 'clf__estimator__base_estimator': None,\n",
       " 'clf__estimator__learning_rate': 1.0,\n",
       " 'clf__estimator__n_estimators': 50,\n",
       " 'clf__estimator__random_state': 30,\n",
       " 'clf__estimator': AdaBoostClassifier(algorithm='SAMME.R', base_estimator=None,\n",
       "           learning_rate=1.0, n_estimators=50, random_state=30),\n",
       " 'clf__n_jobs': 1}"
      ]
     },
     "execution_count": 20,
     "metadata": {},
     "output_type": "execute_result"
    }
   ],
   "source": [
    "pipeline3.get_params()"
   ]
  },
  {
   "cell_type": "code",
   "execution_count": null,
   "metadata": {},
   "outputs": [],
   "source": [
    "X_train, X_test, Y_train, Y_test = train_test_split(X, Y, test_size = 0.3, random_state = 30)\n",
    "\n",
    "#train clf\n",
    "pipeline3.fit(X_train, Y_train)\n",
    "\n",
    "#predict response\n",
    "Y_pred3 = pipeline3.predict(X_test)"
   ]
  },
  {
   "cell_type": "code",
   "execution_count": null,
   "metadata": {},
   "outputs": [],
   "source": [
    "Y_pred3_df = pd.DataFrame(Y_pred, columns = category_names)\n",
    "Y_pred3_df.head()"
   ]
  },
  {
   "cell_type": "code",
   "execution_count": null,
   "metadata": {},
   "outputs": [],
   "source": [
    "#Loop through columns and outputing results\n",
    "\n",
    "for i in range(len(Y.columns)):\n",
    "    print('Category: {}'.format(category_names[i].upper()), \"\\n\\n\",\n",
    "         classification_report(Y_test.iloc[:,i], Y_pred3_df.iloc[:,i]))"
   ]
  },
  {
   "cell_type": "markdown",
   "metadata": {},
   "source": [
    "### 9. Export your model as a pickle file"
   ]
  },
  {
   "cell_type": "code",
   "execution_count": null,
   "metadata": {},
   "outputs": [],
   "source": [
    "filename = 'model.pkl'\n",
    "pickle.dump(cv, open(filename, 'wb'))"
   ]
  },
  {
   "cell_type": "markdown",
   "metadata": {},
   "source": [
    "### 10. Use this notebook to complete `train.py`\n",
    "Use the template file attached in the Resources folder to write a script that runs the steps above to create a database and export a model based on a new dataset specified by the user."
   ]
  },
  {
   "cell_type": "code",
   "execution_count": null,
   "metadata": {},
   "outputs": [],
   "source": []
  }
 ],
 "metadata": {
  "kernelspec": {
   "display_name": "Python 3",
   "language": "python",
   "name": "python3"
  },
  "language_info": {
   "codemirror_mode": {
    "name": "ipython",
    "version": 3
   },
   "file_extension": ".py",
   "mimetype": "text/x-python",
   "name": "python",
   "nbconvert_exporter": "python",
   "pygments_lexer": "ipython3",
   "version": "3.6.3"
  }
 },
 "nbformat": 4,
 "nbformat_minor": 2
}
